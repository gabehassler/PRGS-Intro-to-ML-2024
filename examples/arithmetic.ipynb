{
 "cells": [
  {
   "cell_type": "markdown",
   "id": "d4c8479a",
   "metadata": {},
   "source": [
    "# Computer Arithmetic\n",
    "\n",
    "## Data Types\n",
    "In Python, numbers can be represented in different data types. The two most common types for numerical values are `int` (integer) and `float` (floating-point number).\n",
    "- An `int` represents whole numbers without a decimal point, such as `1`, `42`, or `-7`.\n",
    "- A `float` represents real numbers and can include decimal points, such as `1.0`, `3.14`, or `-0.001`.\n",
    "\n",
    "Some numbers can be represented as either an `int` or a `float`. For example, the number `4` can be represented as an integer (`4`) or as a floating-point number (`4.0`).\n"
   ]
  },
  {
   "cell_type": "code",
   "execution_count": 1,
   "id": "e6d7c86e",
   "metadata": {},
   "outputs": [
    {
     "name": "stdout",
     "output_type": "stream",
     "text": [
      "The type of 4 is: <class 'int'>\n",
      "The type of 4.0 is: <class 'float'>\n"
     ]
    }
   ],
   "source": [
    "print(\"The type of 4 is:\", type(4))\n",
    "print(\"The type of 4.0 is:\", type(4.0))"
   ]
  },
  {
   "cell_type": "markdown",
   "id": "9abf0e64",
   "metadata": {},
   "source": [
    "Integers and floating point numbers are represented differently in computer memory.\n",
    "This can lead to some unexpected results when performing arithmetic operations."
   ]
  },
  {
   "cell_type": "markdown",
   "id": "a497e8d7",
   "metadata": {},
   "source": [
    "## Integer Arithmetic"
   ]
  },
  {
   "cell_type": "code",
   "execution_count": 2,
   "id": "c8688f17",
   "metadata": {},
   "outputs": [
    {
     "name": "stdout",
     "output_type": "stream",
     "text": [
      "The sum of 1 and 2 is 3\n",
      "The type of z is: <class 'int'>\n"
     ]
    }
   ],
   "source": [
    "x = 1\n",
    "y = 2\n",
    "z = x + y\n",
    "print(\"The sum of\", x, \"and\", y, \"is\", z)\n",
    "print(\"The type of z is:\", type(z))"
   ]
  },
  {
   "cell_type": "code",
   "execution_count": 3,
   "id": "ec195f33",
   "metadata": {},
   "outputs": [
    {
     "name": "stdout",
     "output_type": "stream",
     "text": [
      "The sum of 1 and 2.0 is 3.0\n",
      "The type of the sum is: <class 'float'>\n"
     ]
    }
   ],
   "source": [
    "w = 2.0\n",
    "print(\"The sum of\", x, \"and\", w, \"is\", x + w)\n",
    "print(\"The type of the sum is:\", type(x + w))"
   ]
  },
  {
   "cell_type": "code",
   "execution_count": 4,
   "id": "7a16ea0f",
   "metadata": {},
   "outputs": [
    {
     "name": "stdout",
     "output_type": "stream",
     "text": [
      "The quotient of 1 and 2 is 0.5\n",
      "The type of the quotient is: <class 'float'>\n"
     ]
    }
   ],
   "source": [
    "print(\"The quotient of\", x, \"and\", y, \"is\", x / y)\n",
    "print(\"The type of the quotient is:\", type(x / y))"
   ]
  },
  {
   "cell_type": "markdown",
   "id": "5f3d2f5e",
   "metadata": {},
   "source": [
    "Pythons standard integer type can represent arbitrarily large integers, limited only by available memory."
   ]
  },
  {
   "cell_type": "code",
   "execution_count": 5,
   "id": "bfa89d3d",
   "metadata": {},
   "outputs": [
    {
     "name": "stdout",
     "output_type": "stream",
     "text": [
      "The maximum integer value is: 9223372036854775807\n",
      "Adding 1 to the maximum integer value gives: 9223372036854775808\n"
     ]
    }
   ],
   "source": [
    "import sys\n",
    "max_int = sys.maxsize\n",
    "print(\"The maximum integer value is:\", max_int)\n",
    "print(\"Adding 1 to the maximum integer value gives:\", max_int + 1)\n"
   ]
  },
  {
   "cell_type": "markdown",
   "id": "ceb1e929",
   "metadata": {},
   "source": [
    "However other programming languages have fixed-size integer types (e.g., 32-bit or 64-bit integers) that can lead to overflow errors when calculations exceed the maximum representable value."
   ]
  },
  {
   "cell_type": "code",
   "execution_count": 6,
   "id": "eb586004",
   "metadata": {},
   "outputs": [
    {
     "name": "stdout",
     "output_type": "stream",
     "text": [
      "The maximum 32-bit integer value is: 2147483647\n",
      "Adding 1 to the maximum 32-bit integer value gives: -2147483648\n"
     ]
    },
    {
     "name": "stderr",
     "output_type": "stream",
     "text": [
      "/var/folders/jr/00w_2h1n2mq3z087gm43fv947003j8/T/ipykernel_80074/1314378191.py:5: RuntimeWarning: overflow encountered in scalar add\n",
      "  z = x + y\n"
     ]
    }
   ],
   "source": [
    "import numpy as np\n",
    "max_int32 = np.iinfo(np.int32).max\n",
    "x = np.int32(max_int32)\n",
    "y = np.int32(1)\n",
    "z = x + y\n",
    "\n",
    "print(\"The maximum 32-bit integer value is:\", x)\n",
    "print(\"Adding 1 to the maximum 32-bit integer value gives:\", z)\n"
   ]
  },
  {
   "cell_type": "markdown",
   "id": "7eed9be6",
   "metadata": {},
   "source": [
    "## Floating Point Arithmetic\n",
    "\n",
    "Unlike integers, floating point numbers have a limited precision.\n",
    "Most numbers cannot be represented exactly as floating point numbers, which can lead to rounding errors in calculations."
   ]
  },
  {
   "cell_type": "code",
   "execution_count": 7,
   "id": "7b346415",
   "metadata": {},
   "outputs": [
    {
     "name": "stdout",
     "output_type": "stream",
     "text": [
      "Exact 0.1 representation in binary floating point:\n",
      "0.10000000000000000555\n"
     ]
    }
   ],
   "source": [
    "x = 0.1\n",
    "print(\"Exact 0.1 representation in binary floating point:\")\n",
    "print(\"{0:.20f}\".format(x))  # Shows the stored approximation for 0.1\n"
   ]
  },
  {
   "cell_type": "markdown",
   "id": "9e1e80ab",
   "metadata": {},
   "source": [
    "These rounding errors can cause unexpected results in arithmetic operations."
   ]
  },
  {
   "cell_type": "code",
   "execution_count": 8,
   "id": "1d3d97d4",
   "metadata": {},
   "outputs": [
    {
     "name": "stdout",
     "output_type": "stream",
     "text": [
      "0.1 + 0.2 = 0.30000000000000004\n",
      "Is 0.1 + 0.2 == 0.3 ? False\n",
      "Error in 0.1 + 0.2 - 0.3 : 5.551115123125783e-17\n"
     ]
    }
   ],
   "source": [
    "x = 0.1 + 0.2\n",
    "\n",
    "print(\"0.1 + 0.2 =\", x)\n",
    "print(\"Is 0.1 + 0.2 == 0.3 ?\", x == 0.3)\n",
    "print(\"Error in 0.1 + 0.2 - 0.3 :\", x - 0.3)"
   ]
  },
  {
   "cell_type": "markdown",
   "id": "b6222686",
   "metadata": {},
   "source": [
    "These errors can accumulate:\n"
   ]
  },
  {
   "cell_type": "code",
   "execution_count": 9,
   "id": "1b4da8d5",
   "metadata": {},
   "outputs": [
    {
     "name": "stdout",
     "output_type": "stream",
     "text": [
      "Expected sum: 1.00000000000000000000, Actual sum: 0.99999999975016995446\n",
      "Error in summation: -2.4983004554002264e-10\n"
     ]
    }
   ],
   "source": [
    "n = 10**7\n",
    "s = 0.0\n",
    "for i in range(n):\n",
    "    s += 1e-7\n",
    "print(\"Expected sum: {:.20f}, Actual sum: {:.20f}\".format(1.0, s))\n",
    "print(\"Error in summation:\", s - 1.0)\n"
   ]
  },
  {
   "cell_type": "markdown",
   "id": "c6e3e8d2",
   "metadata": {},
   "source": [
    "These rounding errors mean that the order in which arithmetic operations are performed can affect the final result."
   ]
  },
  {
   "cell_type": "code",
   "execution_count": 10,
   "id": "d64f2fde",
   "metadata": {},
   "outputs": [
    {
     "name": "stdout",
     "output_type": "stream",
     "text": [
      "\n",
      "Sum in different orders:\n",
      "Order 1: 0.0\n",
      "Order 2: 1.0\n"
     ]
    }
   ],
   "source": [
    "\n",
    "# 5. Summation order affects result\n",
    "values1 = [1e16, 1, -1e16]\n",
    "values2 = [1e16, -1e16, 1]\n",
    "print(\"\\nSum in different orders:\")\n",
    "print(\"Order 1:\", sum(values1))\n",
    "print(\"Order 2:\", sum(values2))"
   ]
  },
  {
   "cell_type": "markdown",
   "id": "b2dbf73f",
   "metadata": {},
   "source": [
    "Some ways of computing things are more accurate than others."
   ]
  },
  {
   "cell_type": "code",
   "execution_count": 11,
   "id": "86ab1d51",
   "metadata": {},
   "outputs": [
    {
     "name": "stdout",
     "output_type": "stream",
     "text": [
      "\n",
      "Loss of significance demonstration:\n",
      "Direct computation: 53687091.2\n",
      "Stable computation: 63245553.203367606\n"
     ]
    }
   ],
   "source": [
    "\n",
    "\n",
    "from math import sqrt\n",
    "a = 1e15\n",
    "b = 1\n",
    "expr1 = 1 / (sqrt(a + b) - sqrt(a)) # Catastrophic cancellation\n",
    "expr2 = (sqrt(a + b) + sqrt(a)) / b\n",
    "print(\"\\nLoss of significance demonstration:\")\n",
    "print(\"Direct computation:\", expr1)\n",
    "print(\"Stable computation:\", expr2)"
   ]
  },
  {
   "cell_type": "markdown",
   "id": "88e9e1ac",
   "metadata": {},
   "source": [
    "### Special Cases in Floating Point Arithmetic\n",
    "\n",
    "#### Infinity\n",
    "Some operations can result in special floating point values such as positive or negative infinity.\n",
    "These values represent numbers that are too large (or too small) to be represented as floating point numbers.\n",
    "Note that they are often not actually infinite mathematically, but rather a representation of overflow."
   ]
  },
  {
   "cell_type": "code",
   "execution_count": 12,
   "id": "e52bbdc9",
   "metadata": {},
   "outputs": [
    {
     "name": "stdout",
     "output_type": "stream",
     "text": [
      "Result of 1e200 / 1e-200: inf\n"
     ]
    }
   ],
   "source": [
    "x = 1e200/1e-200\n",
    "print(\"Result of 1e200 / 1e-200:\", x)"
   ]
  },
  {
   "cell_type": "code",
   "execution_count": 13,
   "id": "9fd614f4",
   "metadata": {},
   "outputs": [
    {
     "name": "stdout",
     "output_type": "stream",
     "text": [
      "Result of 1e210 / 1e-210: inf\n"
     ]
    }
   ],
   "source": [
    "y = 1e210 / 1e-210\n",
    "print(\"Result of 1e210 / 1e-210:\", y)"
   ]
  },
  {
   "cell_type": "code",
   "execution_count": 14,
   "id": "14086478",
   "metadata": {},
   "outputs": [
    {
     "data": {
      "text/plain": [
       "True"
      ]
     },
     "execution_count": 14,
     "metadata": {},
     "output_type": "execute_result"
    }
   ],
   "source": [
    "y == x"
   ]
  },
  {
   "cell_type": "code",
   "execution_count": 26,
   "id": "aa566f29",
   "metadata": {},
   "outputs": [
    {
     "data": {
      "text/plain": [
       "inf"
      ]
     },
     "execution_count": 26,
     "metadata": {},
     "output_type": "execute_result"
    }
   ],
   "source": [
    "x + 1"
   ]
  },
  {
   "cell_type": "code",
   "execution_count": 27,
   "id": "fecba5ad",
   "metadata": {},
   "outputs": [
    {
     "data": {
      "text/plain": [
       "inf"
      ]
     },
     "execution_count": 27,
     "metadata": {},
     "output_type": "execute_result"
    }
   ],
   "source": [
    "x - 1"
   ]
  },
  {
   "cell_type": "code",
   "execution_count": 28,
   "id": "cb73d07c",
   "metadata": {},
   "outputs": [
    {
     "data": {
      "text/plain": [
       "inf"
      ]
     },
     "execution_count": 28,
     "metadata": {},
     "output_type": "execute_result"
    }
   ],
   "source": [
    "x - 1e200"
   ]
  },
  {
   "cell_type": "code",
   "execution_count": 29,
   "id": "53dcd5ea",
   "metadata": {},
   "outputs": [
    {
     "data": {
      "text/plain": [
       "nan"
      ]
     },
     "execution_count": 29,
     "metadata": {},
     "output_type": "execute_result"
    }
   ],
   "source": [
    "x - y"
   ]
  },
  {
   "cell_type": "code",
   "execution_count": 30,
   "id": "2d7796eb",
   "metadata": {},
   "outputs": [
    {
     "data": {
      "text/plain": [
       "nan"
      ]
     },
     "execution_count": 30,
     "metadata": {},
     "output_type": "execute_result"
    }
   ],
   "source": [
    "x - x"
   ]
  },
  {
   "cell_type": "code",
   "execution_count": 15,
   "id": "63f1ea6c",
   "metadata": {},
   "outputs": [
    {
     "data": {
      "text/plain": [
       "inf"
      ]
     },
     "execution_count": 15,
     "metadata": {},
     "output_type": "execute_result"
    }
   ],
   "source": [
    "y + x"
   ]
  },
  {
   "cell_type": "code",
   "execution_count": 16,
   "id": "2d137b8f",
   "metadata": {},
   "outputs": [
    {
     "data": {
      "text/plain": [
       "inf"
      ]
     },
     "execution_count": 16,
     "metadata": {},
     "output_type": "execute_result"
    }
   ],
   "source": [
    "2 * x"
   ]
  },
  {
   "cell_type": "code",
   "execution_count": 17,
   "id": "a53314e3",
   "metadata": {},
   "outputs": [
    {
     "data": {
      "text/plain": [
       "-inf"
      ]
     },
     "execution_count": 17,
     "metadata": {},
     "output_type": "execute_result"
    }
   ],
   "source": [
    "-2 * x"
   ]
  },
  {
   "cell_type": "code",
   "execution_count": 18,
   "id": "5dfaccdb",
   "metadata": {},
   "outputs": [
    {
     "data": {
      "text/plain": [
       "inf"
      ]
     },
     "execution_count": 18,
     "metadata": {},
     "output_type": "execute_result"
    }
   ],
   "source": [
    "0.001 * x"
   ]
  },
  {
   "cell_type": "code",
   "execution_count": 19,
   "id": "34ab6b17",
   "metadata": {},
   "outputs": [
    {
     "data": {
      "text/plain": [
       "inf"
      ]
     },
     "execution_count": 19,
     "metadata": {},
     "output_type": "execute_result"
    }
   ],
   "source": [
    "1e-200 * x"
   ]
  },
  {
   "cell_type": "code",
   "execution_count": 20,
   "id": "6f43d3c7",
   "metadata": {},
   "outputs": [
    {
     "data": {
      "text/plain": [
       "nan"
      ]
     },
     "execution_count": 20,
     "metadata": {},
     "output_type": "execute_result"
    }
   ],
   "source": [
    "0.0 * x"
   ]
  },
  {
   "cell_type": "code",
   "execution_count": 32,
   "id": "84039d14",
   "metadata": {},
   "outputs": [
    {
     "data": {
      "text/plain": [
       "nan"
      ]
     },
     "execution_count": 32,
     "metadata": {},
     "output_type": "execute_result"
    }
   ],
   "source": [
    "x / x"
   ]
  },
  {
   "cell_type": "code",
   "execution_count": 33,
   "id": "ca280c4c",
   "metadata": {},
   "outputs": [
    {
     "data": {
      "text/plain": [
       "0.0"
      ]
     },
     "execution_count": 33,
     "metadata": {},
     "output_type": "execute_result"
    }
   ],
   "source": [
    "1.0 / x"
   ]
  },
  {
   "cell_type": "code",
   "execution_count": 35,
   "id": "bd4af19e",
   "metadata": {},
   "outputs": [
    {
     "data": {
      "text/plain": [
       "nan"
      ]
     },
     "execution_count": 35,
     "metadata": {},
     "output_type": "execute_result"
    }
   ],
   "source": [
    "z = x - x\n",
    "z == z\n",
    "float('nan')"
   ]
  },
  {
   "cell_type": "markdown",
   "id": "e1c6aeb3",
   "metadata": {},
   "source": [
    "#### Dealing with NaN's (Not a Number)"
   ]
  },
  {
   "cell_type": "code",
   "execution_count": 24,
   "id": "e717f315",
   "metadata": {},
   "outputs": [
    {
     "data": {
      "text/plain": [
       "True"
      ]
     },
     "execution_count": 24,
     "metadata": {},
     "output_type": "execute_result"
    }
   ],
   "source": [
    "import math\n",
    "math.isnan(z)"
   ]
  },
  {
   "cell_type": "code",
   "execution_count": null,
   "id": "e3b44abd",
   "metadata": {},
   "outputs": [
    {
     "name": "stdout",
     "output_type": "stream",
     "text": [
      "\n",
      "Using tolerance-based comparison:\n"
     ]
    },
    {
     "ename": "NameError",
     "evalue": "name 'c' is not defined",
     "output_type": "error",
     "traceback": [
      "\u001b[0;31m---------------------------------------------------------------------------\u001b[0m",
      "\u001b[0;31mNameError\u001b[0m                                 Traceback (most recent call last)",
      "Cell \u001b[0;32mIn[25], line 12\u001b[0m\n\u001b[1;32m      9\u001b[0m     \u001b[38;5;28;01mreturn\u001b[39;00m \u001b[38;5;28mabs\u001b[39m(a \u001b[38;5;241m-\u001b[39m b) \u001b[38;5;241m<\u001b[39m eps\n\u001b[1;32m     11\u001b[0m \u001b[38;5;28mprint\u001b[39m(\u001b[38;5;124m\"\u001b[39m\u001b[38;5;130;01m\\n\u001b[39;00m\u001b[38;5;124mUsing tolerance-based comparison:\u001b[39m\u001b[38;5;124m\"\u001b[39m)\n\u001b[0;32m---> 12\u001b[0m \u001b[38;5;28mprint\u001b[39m(\u001b[38;5;124m\"\u001b[39m\u001b[38;5;124m0.1 + 0.2 ≈ 0.3 ? -->\u001b[39m\u001b[38;5;124m\"\u001b[39m, floats_equal(\u001b[43mc\u001b[49m, \u001b[38;5;241m0.3\u001b[39m))\n\u001b[1;32m     16\u001b[0m \u001b[38;5;66;03m# Reordering operations can change precision errors.\u001b[39;00m\n\u001b[1;32m     17\u001b[0m \n\u001b[1;32m     18\u001b[0m \n\u001b[1;32m     19\u001b[0m \u001b[38;5;66;03m# Both expressions are mathematically equal, but one is numerically unstable.\u001b[39;00m\n",
      "\u001b[0;31mNameError\u001b[0m: name 'c' is not defined"
     ]
    }
   ],
   "source": [
    "\n",
    "# The result is not exactly 0.3 due to binary representation errors.\n",
    "\n",
    "# 3. Accumulated rounding error in summation\n",
    "\n",
    "# Rounding error slowly accumulates.\n",
    "\n",
    "# 4. Comparing floats directly can be dangerous\n",
    "def floats_equal(a, b, eps=1e-9):\n",
    "    return abs(a - b) < eps\n",
    "\n",
    "print(\"\\nUsing tolerance-based comparison:\")\n",
    "print(\"0.1 + 0.2 ≈ 0.3 ? -->\", floats_equal(0.1 + 0.2, 0.3))\n",
    "\n",
    "\n",
    "\n",
    "# Reordering operations can change precision errors.\n",
    "\n",
    "\n",
    "# Both expressions are mathematically equal, but one is numerically unstable."
   ]
  },
  {
   "cell_type": "code",
   "execution_count": null,
   "id": "8cbd879a",
   "metadata": {},
   "outputs": [],
   "source": [
    "x = 1e200/1e-200\n",
    "type(x)\n",
    "type(1)\n"
   ]
  }
 ],
 "metadata": {
  "kernelspec": {
   "display_name": "env",
   "language": "python",
   "name": "python3"
  },
  "language_info": {
   "codemirror_mode": {
    "name": "ipython",
    "version": 3
   },
   "file_extension": ".py",
   "mimetype": "text/x-python",
   "name": "python",
   "nbconvert_exporter": "python",
   "pygments_lexer": "ipython3",
   "version": "3.12.4"
  }
 },
 "nbformat": 4,
 "nbformat_minor": 5
}
