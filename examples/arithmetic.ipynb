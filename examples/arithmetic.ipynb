{
 "cells": [
  {
   "cell_type": "markdown",
   "id": "d4c8479a",
   "metadata": {},
   "source": [
    "# Computer Arithmetic\n",
    "\n",
    "## Data Types\n",
    "In Python, numbers can be represented in different data types. The two most common types for numerical values are `int` (integer) and `float` (floating-point number).\n",
    "- An `int` represents whole numbers without a decimal point, such as `1`, `42`, or `-7`.\n",
    "- A `float` represents real numbers and can include decimal points, such as `1.0`, `3.14`, or `-0.001`.\n",
    "\n",
    "Some numbers can be represented as either an `int` or a `float`. For example, the number `4` can be represented as an integer (`4`) or as a floating-point number (`4.0`).\n"
   ]
  },
  {
   "cell_type": "code",
   "execution_count": null,
   "id": "e6d7c86e",
   "metadata": {},
   "outputs": [],
   "source": [
    "print(\"The type of 4 is:\", type(4))\n",
    "print(\"The type of 4.0 is:\", type(4.0))"
   ]
  },
  {
   "cell_type": "markdown",
   "id": "9abf0e64",
   "metadata": {},
   "source": [
    "Integers and floating point numbers are represented differently in computer memory.\n",
    "This can lead to some unexpected results when performing arithmetic operations."
   ]
  },
  {
   "cell_type": "markdown",
   "id": "a497e8d7",
   "metadata": {},
   "source": [
    "## Integer Arithmetic"
   ]
  },
  {
   "cell_type": "code",
   "execution_count": null,
   "id": "c8688f17",
   "metadata": {},
   "outputs": [],
   "source": [
    "x = 1\n",
    "y = 2\n",
    "z = x + y\n",
    "print(\"The sum of\", x, \"and\", y, \"is\", z)\n",
    "print(\"The type of z is:\", type(z))"
   ]
  },
  {
   "cell_type": "code",
   "execution_count": null,
   "id": "ec195f33",
   "metadata": {},
   "outputs": [],
   "source": [
    "w = 2.0\n",
    "print(\"The sum of\", x, \"and\", w, \"is\", x + w)\n",
    "print(\"The type of the sum is:\", type(x + w))"
   ]
  },
  {
   "cell_type": "code",
   "execution_count": null,
   "id": "7a16ea0f",
   "metadata": {},
   "outputs": [],
   "source": [
    "print(\"The quotient of\", x, \"and\", y, \"is\", x / y)\n",
    "print(\"The type of the quotient is:\", type(x / y))"
   ]
  },
  {
   "cell_type": "markdown",
   "id": "5f3d2f5e",
   "metadata": {},
   "source": [
    "Pythons standard integer type can represent arbitrarily large integers, limited only by available memory."
   ]
  },
  {
   "cell_type": "code",
   "execution_count": null,
   "id": "bfa89d3d",
   "metadata": {},
   "outputs": [],
   "source": [
    "import sys\n",
    "max_int = sys.maxsize\n",
    "print(\"The maximum integer value is:\", max_int)\n",
    "print(\"Adding 1 to the maximum integer value gives:\", max_int + 1)\n"
   ]
  },
  {
   "cell_type": "markdown",
   "id": "ceb1e929",
   "metadata": {},
   "source": [
    "However other programming languages have fixed-size integer types (e.g., 32-bit or 64-bit integers) that can lead to overflow errors when calculations exceed the maximum representable value."
   ]
  },
  {
   "cell_type": "code",
   "execution_count": null,
   "id": "eb586004",
   "metadata": {},
   "outputs": [],
   "source": [
    "import numpy as np\n",
    "max_int32 = np.iinfo(np.int32).max\n",
    "x = np.int32(max_int32)\n",
    "y = np.int32(1)\n",
    "z = x + y\n",
    "\n",
    "print(\"The maximum 32-bit integer value is:\", x)\n",
    "print(\"Adding 1 to the maximum 32-bit integer value gives:\", z)\n"
   ]
  },
  {
   "cell_type": "markdown",
   "id": "7eed9be6",
   "metadata": {},
   "source": [
    "## Floating Point Arithmetic\n",
    "\n",
    "Unlike integers, floating point numbers have a limited precision.\n",
    "Most numbers cannot be represented exactly as floating point numbers, which can lead to rounding errors in calculations."
   ]
  },
  {
   "cell_type": "code",
   "execution_count": null,
   "id": "7b346415",
   "metadata": {},
   "outputs": [],
   "source": [
    "x = 0.1\n",
    "print(\"Exact 0.1 representation in binary floating point:\")\n",
    "print(\"{0:.20f}\".format(x))  # Shows the stored approximation for 0.1\n"
   ]
  },
  {
   "cell_type": "markdown",
   "id": "9e1e80ab",
   "metadata": {},
   "source": [
    "These rounding errors can cause unexpected results in arithmetic operations."
   ]
  },
  {
   "cell_type": "code",
   "execution_count": null,
   "id": "1d3d97d4",
   "metadata": {},
   "outputs": [],
   "source": [
    "x = 0.1 + 0.2\n",
    "\n",
    "print(\"0.1 + 0.2 =\", x)\n",
    "print(\"Is 0.1 + 0.2 == 0.3 ?\", x == 0.3)\n",
    "print(\"Error in 0.1 + 0.2 - 0.3 :\", x - 0.3)"
   ]
  },
  {
   "cell_type": "markdown",
   "id": "44b81aa3",
   "metadata": {},
   "source": [
    "How to check for approximate equaility of floating point numbers:"
   ]
  },
  {
   "cell_type": "code",
   "execution_count": null,
   "id": "4e7e9a63",
   "metadata": {},
   "outputs": [],
   "source": [
    "def floats_equal(a, b, eps=1e-9):\n",
    "    return abs(a - b) < eps\n",
    "\n",
    "print(\"\\nUsing tolerance-based comparison:\")\n",
    "print(\"0.1 + 0.2 ≈ 0.3 ? -->\", floats_equal(0.1 + 0.2, 0.3))"
   ]
  },
  {
   "cell_type": "markdown",
   "id": "b6222686",
   "metadata": {},
   "source": [
    "These errors can accumulate:\n"
   ]
  },
  {
   "cell_type": "code",
   "execution_count": null,
   "id": "1b4da8d5",
   "metadata": {},
   "outputs": [],
   "source": [
    "n = 10**7\n",
    "s = 0.0\n",
    "for i in range(n):\n",
    "    s += 1e-7\n",
    "print(\"Expected sum: {:.20f}, Actual sum: {:.20f}\".format(1.0, s))\n",
    "print(\"Error in summation:\", s - 1.0)\n"
   ]
  },
  {
   "cell_type": "markdown",
   "id": "c6e3e8d2",
   "metadata": {},
   "source": [
    "These rounding errors mean that the order in which arithmetic operations are performed can affect the final result."
   ]
  },
  {
   "cell_type": "code",
   "execution_count": null,
   "id": "d64f2fde",
   "metadata": {},
   "outputs": [],
   "source": [
    "\n",
    "# 5. Summation order affects result\n",
    "values1 = [1e16, 1, -1e16]\n",
    "values2 = [1e16, -1e16, 1]\n",
    "print(\"\\nSum in different orders:\")\n",
    "print(\"Order 1:\", sum(values1))\n",
    "print(\"Order 2:\", sum(values2))"
   ]
  },
  {
   "cell_type": "markdown",
   "id": "b2dbf73f",
   "metadata": {},
   "source": [
    "Some ways of computing things are more accurate than others."
   ]
  },
  {
   "cell_type": "code",
   "execution_count": null,
   "id": "86ab1d51",
   "metadata": {},
   "outputs": [],
   "source": [
    "\n",
    "\n",
    "from math import sqrt\n",
    "a = 1e15\n",
    "b = 1\n",
    "expr1 = 1 / (sqrt(a + b) - sqrt(a)) # Catastrophic cancellation\n",
    "expr2 = (sqrt(a + b) + sqrt(a)) / b\n",
    "print(\"\\nLoss of significance demonstration:\")\n",
    "print(\"Direct computation:\", expr1)\n",
    "print(\"Stable computation:\", expr2)"
   ]
  },
  {
   "cell_type": "markdown",
   "id": "88e9e1ac",
   "metadata": {},
   "source": [
    "### Special Cases in Floating Point Arithmetic\n",
    "\n",
    "#### Infinity\n",
    "Some operations can result in special floating point values such as positive or negative infinity.\n",
    "These values represent numbers that are too large (or too small) to be represented as floating point numbers.\n",
    "Note that they are often not actually infinite mathematically, but rather a representation of overflow."
   ]
  },
  {
   "cell_type": "code",
   "execution_count": null,
   "id": "e52bbdc9",
   "metadata": {},
   "outputs": [],
   "source": [
    "x = 1e200/1e-200\n",
    "print(\"Result of 1e200 / 1e-200:\", x)"
   ]
  },
  {
   "cell_type": "code",
   "execution_count": null,
   "id": "9fd614f4",
   "metadata": {},
   "outputs": [],
   "source": [
    "y = 1e210 / 1e-210\n",
    "print(\"Result of 1e210 / 1e-210:\", y)"
   ]
  },
  {
   "cell_type": "code",
   "execution_count": null,
   "id": "14086478",
   "metadata": {},
   "outputs": [],
   "source": [
    "y == x"
   ]
  },
  {
   "cell_type": "code",
   "execution_count": null,
   "id": "aa566f29",
   "metadata": {},
   "outputs": [],
   "source": [
    "x + 1"
   ]
  },
  {
   "cell_type": "code",
   "execution_count": null,
   "id": "fecba5ad",
   "metadata": {},
   "outputs": [],
   "source": [
    "x - 1"
   ]
  },
  {
   "cell_type": "code",
   "execution_count": null,
   "id": "cb73d07c",
   "metadata": {},
   "outputs": [],
   "source": [
    "x - 1e200"
   ]
  },
  {
   "cell_type": "code",
   "execution_count": null,
   "id": "53dcd5ea",
   "metadata": {},
   "outputs": [],
   "source": [
    "x - y"
   ]
  },
  {
   "cell_type": "code",
   "execution_count": null,
   "id": "2d7796eb",
   "metadata": {},
   "outputs": [],
   "source": [
    "x - x"
   ]
  },
  {
   "cell_type": "code",
   "execution_count": null,
   "id": "63f1ea6c",
   "metadata": {},
   "outputs": [],
   "source": [
    "y + x"
   ]
  },
  {
   "cell_type": "code",
   "execution_count": null,
   "id": "2d137b8f",
   "metadata": {},
   "outputs": [],
   "source": [
    "2 * x"
   ]
  },
  {
   "cell_type": "code",
   "execution_count": null,
   "id": "a53314e3",
   "metadata": {},
   "outputs": [],
   "source": [
    "-2 * x"
   ]
  },
  {
   "cell_type": "code",
   "execution_count": null,
   "id": "5dfaccdb",
   "metadata": {},
   "outputs": [],
   "source": [
    "0.001 * x"
   ]
  },
  {
   "cell_type": "code",
   "execution_count": null,
   "id": "34ab6b17",
   "metadata": {},
   "outputs": [],
   "source": [
    "1e-200 * x"
   ]
  },
  {
   "cell_type": "code",
   "execution_count": null,
   "id": "6f43d3c7",
   "metadata": {},
   "outputs": [],
   "source": [
    "0.0 * x"
   ]
  },
  {
   "cell_type": "code",
   "execution_count": null,
   "id": "84039d14",
   "metadata": {},
   "outputs": [],
   "source": [
    "x / x"
   ]
  },
  {
   "cell_type": "code",
   "execution_count": null,
   "id": "ca280c4c",
   "metadata": {},
   "outputs": [],
   "source": [
    "1.0 / x"
   ]
  },
  {
   "cell_type": "code",
   "execution_count": null,
   "id": "bd4af19e",
   "metadata": {},
   "outputs": [],
   "source": [
    "z = x - x\n",
    "z == z\n",
    "float('nan')"
   ]
  },
  {
   "cell_type": "markdown",
   "id": "e1c6aeb3",
   "metadata": {},
   "source": [
    "#### Dealing with NaN's (Not a Number)"
   ]
  },
  {
   "cell_type": "code",
   "execution_count": null,
   "id": "e717f315",
   "metadata": {},
   "outputs": [],
   "source": [
    "import math\n",
    "math.isnan(z)"
   ]
  }
 ],
 "metadata": {
  "kernelspec": {
   "display_name": "env",
   "language": "python",
   "name": "python3"
  },
  "language_info": {
   "codemirror_mode": {
    "name": "ipython",
    "version": 3
   },
   "file_extension": ".py",
   "mimetype": "text/x-python",
   "name": "python",
   "nbconvert_exporter": "python",
   "pygments_lexer": "ipython3",
   "version": "3.12.4"
  }
 },
 "nbformat": 4,
 "nbformat_minor": 5
}
