{
 "cells": [
  {
   "cell_type": "markdown",
   "id": "94dacc3f",
   "metadata": {},
   "source": [
    "# Practical Guide to PCA\n",
    "#### Gabriel Hassler\n",
    "\n",
    "\n",
    "## PCA"
   ]
  },
  {
   "cell_type": "code",
   "execution_count": null,
   "id": "eee8c1dc",
   "metadata": {},
   "outputs": [],
   "source": [
    "import pandas as pd\n",
    "\n",
    "data = pd.read_csv('data/processed/pca_input.csv', dtype={'GEOID': str})\n",
    "\n",
    "print(data.head())\n",
    "\n"
   ]
  },
  {
   "cell_type": "markdown",
   "id": "ed68956d",
   "metadata": {},
   "source": [
    "## Attempt 1"
   ]
  },
  {
   "cell_type": "code",
   "execution_count": null,
   "id": "67c08a23",
   "metadata": {},
   "outputs": [],
   "source": [
    "from sklearn.decomposition import PCA\n",
    "\n",
    "X = data.drop(columns=['GEOID'])\n",
    "X.index = data['GEOID']\n",
    "pca = PCA(n_components=10)\n",
    "X_pca = pca.fit_transform(X)"
   ]
  },
  {
   "cell_type": "markdown",
   "id": "153e9c15",
   "metadata": {},
   "source": [
    "## Attempt 2: Dealing with missing data"
   ]
  },
  {
   "cell_type": "code",
   "execution_count": null,
   "id": "f7c587b8",
   "metadata": {},
   "outputs": [],
   "source": [
    "mis_percs = X.isnull().mean()\n",
    "print(mis_percs)\n",
    "\n",
    "\n",
    "# plot missing data matrix\n",
    "import matplotlib.pyplot as plt\n",
    "import seaborn as sns\n",
    "\n",
    "plt.figure(figsize=(10,6))\n",
    "sns.heatmap(X.isnull(), cbar=True, cbar_kws={'label': 'Missing Value Intensity'})\n",
    "plt.title('Missing Data Matrix')\n",
    "plt.xlabel('Features')\n",
    "plt.ylabel('Samples')\n",
    "plt.show()"
   ]
  },
  {
   "cell_type": "code",
   "execution_count": null,
   "id": "0aa755a5",
   "metadata": {},
   "outputs": [],
   "source": [
    "# drop missing values\n",
    "X_dropped = X.dropna()\n",
    "pca_dropped = PCA(n_components=10)\n",
    "X_pca_dropped = pca_dropped.fit_transform(X_dropped)\n",
    "\n",
    "# Eigenvectors as matrix\n",
    "print(\"PCA Components after dropping missing values:\")\n",
    "print(pca_dropped.components_)"
   ]
  },
  {
   "cell_type": "markdown",
   "id": "0af66d2a",
   "metadata": {},
   "source": [
    "This is a little hard to interpret.\n",
    "Let's make a function to visualize the PCA components."
   ]
  },
  {
   "cell_type": "code",
   "execution_count": null,
   "id": "a3e622b4",
   "metadata": {},
   "outputs": [],
   "source": [
    "def visualize_pca(pca, feature_names):\n",
    "    components = pca.components_\n",
    "    num_components = components.shape[0]\n",
    "\n",
    "    plt.figure(figsize=(12, num_components * 5))  # Adjust height based on number of components\n",
    "    for i in range(num_components):\n",
    "        plt.subplot(num_components, 1, i + 1)  # Change subplot configuration\n",
    "        plt.bar(range(len(feature_names)), components[i])\n",
    "        plt.xticks(range(len(feature_names)), feature_names, rotation=90)\n",
    "        plt.ylim(-1, 1)\n",
    "        plt.axhline(0, color='gray', linestyle='dotted')  # Add a dotted line at y=0\n",
    "        plt.title(f'PCA Component {i+1}')\n",
    "    plt.tight_layout()\n",
    "    plt.show()\n",
    "\n",
    "def visualize_eigvals(pca):\n",
    "    eigvals = pca.explained_variance_\n",
    "    plt.figure(figsize=(8, 5))\n",
    "    plt.plot(range(1, len(eigvals) + 1), eigvals, marker='o')\n",
    "    plt.title('Eigenvalues of PCA Components')\n",
    "    plt.xlabel('Component Number')\n",
    "    plt.ylabel('Eigenvalue')\n",
    "    plt.xticks(range(1, len(eigvals) + 1))\n",
    "    plt.grid()\n",
    "    plt.show()\n",
    "\n",
    "visualize_pca(pca_dropped, X.columns)\n",
    "visualize_eigvals(pca_dropped)"
   ]
  },
  {
   "cell_type": "markdown",
   "id": "117dff1f",
   "metadata": {},
   "source": [
    "PCA tries to find the directions of maximum variance in the data.\n",
    "Let's look at the variance of each variable in our dataset."
   ]
  },
  {
   "cell_type": "code",
   "execution_count": null,
   "id": "4c084f07",
   "metadata": {},
   "outputs": [],
   "source": [
    "var_X = X_dropped.var()\n",
    "print(\"Variance of each variable:\")\n",
    "print(var_X)"
   ]
  },
  {
   "cell_type": "markdown",
   "id": "e9be19d4",
   "metadata": {},
   "source": [
    "## Attempt 3: Dealing with scaling\n",
    "\n"
   ]
  },
  {
   "cell_type": "code",
   "execution_count": null,
   "id": "035a5d5b",
   "metadata": {},
   "outputs": [],
   "source": [
    "from sklearn.preprocessing import StandardScaler\n",
    "scaler = StandardScaler()\n",
    "X_scaled = scaler.fit_transform(X_dropped)\n",
    "\n",
    "\n",
    "var_X_scaled = pd.DataFrame(X_scaled, columns=X_dropped.columns).var()\n",
    "print(\"Variance of each variable after scaling:\")\n",
    "print(var_X_scaled)\n"
   ]
  },
  {
   "cell_type": "code",
   "execution_count": null,
   "id": "1ae146d4",
   "metadata": {},
   "outputs": [],
   "source": [
    "pca_scaled = PCA(n_components=10)\n",
    "X_pca_scaled = pca_scaled.fit_transform(X_scaled)\n",
    "\n",
    "print(\"PCA Components after scaling:\")\n",
    "visualize_pca(pca_scaled, X_dropped.columns)\n",
    "print(\"Eigenvalues after scaling:\")\n",
    "visualize_eigvals(pca_scaled)"
   ]
  },
  {
   "cell_type": "markdown",
   "id": "ff2ca97b",
   "metadata": {},
   "source": [
    "## How to choose the number of components to include in downstream analyses?\n",
    "1. Scree plot\n",
    "2. Cumulative explained variance plot\n",
    "3. Kaiser criterion (keep components with eigenvalues > 1)\n",
    "4. Cross validation\n",
    "5. Domain knowledge\n",
    "\n",
    "### Scree Plot"
   ]
  },
  {
   "cell_type": "code",
   "execution_count": null,
   "id": "4e9119e7",
   "metadata": {},
   "outputs": [],
   "source": [
    "visualize_eigvals(pca_scaled)\n"
   ]
  },
  {
   "cell_type": "markdown",
   "id": "0a82643c",
   "metadata": {},
   "source": [
    "### Cumulative Explained Variance Plot\n",
    "\n"
   ]
  },
  {
   "cell_type": "code",
   "execution_count": null,
   "id": "5ffc9b8d",
   "metadata": {},
   "outputs": [],
   "source": [
    "var_explained = pca_scaled.explained_variance_ratio_\n",
    "cumulative_var_explained = var_explained.cumsum()\n",
    "\n",
    "df = pd.DataFrame({\n",
    "    'Component': range(1, len(var_explained) + 1),\n",
    "    'Variance Explained': var_explained,\n",
    "    'Cumulative Variance Explained': cumulative_var_explained\n",
    "})\n",
    "print(df)"
   ]
  },
  {
   "cell_type": "markdown",
   "id": "1da4a4d6",
   "metadata": {},
   "source": [
    "### Kaiser Criterion\n",
    "Keep components with eigenvalues > 1."
   ]
  },
  {
   "cell_type": "code",
   "execution_count": null,
   "id": "02c1dad2",
   "metadata": {},
   "outputs": [],
   "source": [
    "eigvals = pca_scaled.explained_variance_\n",
    "print(\"Eigenvalues of PCA Components after scaling:\")\n",
    "print(eigvals)"
   ]
  },
  {
   "cell_type": "markdown",
   "id": "63a1a6af",
   "metadata": {},
   "source": [
    "### Cross Validation\n",
    "This is complicated in PCA but doable.\n",
    "\n",
    "### Domain Knowledge\n",
    "Use your understanding of the data to inform your choice."
   ]
  },
  {
   "cell_type": "markdown",
   "id": "aa5c54d6",
   "metadata": {},
   "source": [
    "## Advanced PCA Topics: Rotation and Sparse PCA"
   ]
  },
  {
   "cell_type": "code",
   "execution_count": null,
   "id": "808dfc04",
   "metadata": {},
   "outputs": [],
   "source": [
    "# sparse PCA\n",
    "from sklearn.decomposition import SparsePCA\n",
    "sparse_pca = SparsePCA(n_components=3, alpha=10)\n",
    "sparse_X_pca = sparse_pca.fit_transform(X_scaled)\n",
    "\n",
    "visualize_pca(sparse_pca, X_dropped.columns)"
   ]
  },
  {
   "cell_type": "code",
   "execution_count": null,
   "id": "bce38b31",
   "metadata": {},
   "outputs": [],
   "source": [
    "from sklearn.decomposition import FactorAnalysis\n",
    "\n",
    "fa = FactorAnalysis(n_components=3, rotation='quartimax')\n",
    "X_fa = fa.fit_transform(X_scaled)\n",
    "\n",
    "visualize_pca(fa, X_dropped.columns)"
   ]
  },
  {
   "cell_type": "markdown",
   "id": "42b78e2a",
   "metadata": {},
   "source": [
    "# Interpretation"
   ]
  },
  {
   "cell_type": "code",
   "execution_count": null,
   "id": "cd7311c3",
   "metadata": {},
   "outputs": [],
   "source": [
    "import geopandas as gpd\n",
    "import pandas as pd\n",
    "import matplotlib.pyplot as plt\n",
    "from shapely import affinity\n",
    "\n",
    "# Load county shapefile\n",
    "counties = gpd.read_file(\"data/raw/cb_2022_us_county_5m.zip\")\n",
    "\n",
    "# Project to an equal-area projection in meters\n",
    "counties = counties.to_crs(\"EPSG:5070\")\n",
    "\n",
    "# Build PCA dataframe\n",
    "X_pca_df = pd.DataFrame(X_pca_scaled, columns=[f'PC{i+1}' for i in range(X_pca_scaled.shape[1])])\n",
    "X_pca_df['GEOID'] = X_dropped.index\n",
    "\n",
    "# Separate Alaska, Hawaii, and continental US\n",
    "alaska = counties[counties['STATEFP'] == '02'].copy()\n",
    "hawaii = counties[counties['STATEFP'] == '15'].copy()\n",
    "continental = counties[~counties['STATEFP'].isin(['02', '15', '72'])].copy()\n",
    "\n",
    "# --- Move Alaska as a block ---\n",
    "# Compute Alaska centroid to use as scaling origin\n",
    "alaska_centroid = alaska.unary_union.centroid\n",
    "\n",
    "# Scale and shift each geometry with the same parameters\n",
    "alaska['geometry'] = alaska['geometry'].apply(\n",
    "    lambda geom: affinity.scale(geom, xfact=0.35, yfact=0.35, origin=alaska_centroid)\n",
    ")\n",
    "alaska['geometry'] = alaska['geometry'].apply(\n",
    "    lambda geom: affinity.translate(geom, xoff=3e6, yoff=-1.5e6)\n",
    ")\n",
    "\n",
    "# --- Move Hawaii as a block ---\n",
    "hawaii_centroid = hawaii.unary_union.centroid\n",
    "hawaii['geometry'] = hawaii['geometry'].apply(\n",
    "    lambda geom: affinity.translate(geom, xoff=5.4e6, yoff=-1.8e6)\n",
    ")\n",
    "\n",
    "# Combine all back together\n",
    "counties_shifted = pd.concat([continental, alaska, hawaii], ignore_index=True)\n",
    "\n",
    "# Merge with PCA data\n",
    "merged = counties_shifted.merge(X_pca_df, on='GEOID', how='left')\n",
    "\n",
    "# --- Plot each PCA component ---\n",
    "for i in range(4):\n",
    "    pc = f'PC{i+1}'\n",
    "    fig, ax = plt.subplots(figsize=(12, 9))\n",
    "    merged.plot(column=pc, ax=ax, legend=True,\n",
    "                cmap='viridis', edgecolor='black', linewidth=0.1)\n",
    "    ax.set_title(f\"{pc} by County (shifted AK/HI)\", fontsize=14)\n",
    "    ax.axis('off')\n",
    "    plt.show()\n"
   ]
  },
  {
   "cell_type": "code",
   "execution_count": null,
   "id": "e3c93984",
   "metadata": {},
   "outputs": [],
   "source": [
    "merged\n",
    "\n"
   ]
  }
 ],
 "metadata": {
  "kernelspec": {
   "display_name": "env",
   "language": "python",
   "name": "python3"
  },
  "language_info": {
   "codemirror_mode": {
    "name": "ipython",
    "version": 3
   },
   "file_extension": ".py",
   "mimetype": "text/x-python",
   "name": "python",
   "nbconvert_exporter": "python",
   "pygments_lexer": "ipython3",
   "version": "3.12.4"
  }
 },
 "nbformat": 4,
 "nbformat_minor": 5
}
